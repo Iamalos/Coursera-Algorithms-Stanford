{
 "cells": [
  {
   "cell_type": "code",
   "execution_count": 134,
   "metadata": {},
   "outputs": [],
   "source": [
    "def karatsuba_mult(x,y):\n",
    "    # check if single digit (INCORRECT)\n",
    "    if len(str(x)) <= 1 or len(str(y)) <= 1 :\n",
    "        return x*y\n",
    "    \n",
    "    n = max(len(str(x)), len(str(y)))\n",
    "    m = n//2\n",
    "    \n",
    "    # divide into subproblems\n",
    "    a,b = str(x)[:-m], str(x)[-m:]\n",
    "    c,d = str(y)[:-m], str(y)[-m:]\n",
    "    \n",
    "    # cast to integers, catching '' case\n",
    "    a = int(a) if a else 0\n",
    "    b = int(b) if b else 0\n",
    "    c = int(c) if c else 0\n",
    "    d = int(d) if d else 0\n",
    "    \n",
    "    # solve three recursive calls\n",
    "    step_1 = karatsuba_mult(a,c)\n",
    "    step_2 = karatsuba_mult(b,d)\n",
    "    step_3 = karatsuba_mult((a+b),(c+d))\n",
    "     \n",
    "    step_4 = step_3 - step_2 - step_1\n",
    "    \n",
    "    return step_1 * 10**(2*m) + step_4 * 10**m + step_2"
   ]
  },
  {
   "cell_type": "code",
   "execution_count": 135,
   "metadata": {},
   "outputs": [
    {
     "data": {
      "text/plain": [
       "7006652"
      ]
     },
     "execution_count": 135,
     "metadata": {},
     "output_type": "execute_result"
    }
   ],
   "source": [
    "karatsuba_mult(1234,5678)"
   ]
  },
  {
   "cell_type": "code",
   "execution_count": 136,
   "metadata": {},
   "outputs": [],
   "source": [
    "x = 3141592653589793238462643383279502884197169399375105820974944592\n",
    "y = 2718281828459045235360287471352662497757247093699959574966967627"
   ]
  },
  {
   "cell_type": "code",
   "execution_count": 145,
   "metadata": {},
   "outputs": [
    {
     "data": {
      "text/plain": [
       "8539734222673567065463550869546574495034888535765114961879601127067743044893204848617875072216249073013374895871952806582723184"
      ]
     },
     "execution_count": 145,
     "metadata": {},
     "output_type": "execute_result"
    }
   ],
   "source": [
    "karatsuba_mult(x,y)"
   ]
  },
  {
   "cell_type": "code",
   "execution_count": null,
   "metadata": {
    "collapsed": true
   },
   "outputs": [],
   "source": []
  }
 ],
 "metadata": {
  "kernelspec": {
   "display_name": "Python 3",
   "language": "python",
   "name": "python3"
  },
  "language_info": {
   "codemirror_mode": {
    "name": "ipython",
    "version": 3
   },
   "file_extension": ".py",
   "mimetype": "text/x-python",
   "name": "python",
   "nbconvert_exporter": "python",
   "pygments_lexer": "ipython3",
   "version": "3.6.1"
  }
 },
 "nbformat": 4,
 "nbformat_minor": 2
}
