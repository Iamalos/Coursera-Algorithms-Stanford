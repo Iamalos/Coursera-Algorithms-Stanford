{
 "cells": [
  {
   "cell_type": "code",
   "execution_count": 75,
   "metadata": {
    "collapsed": true
   },
   "outputs": [],
   "source": [
    "def mult_rec(x,y):\n",
    "    x, y = str(x), str(y)\n",
    "    if len(x) == 1 or len(y) == 1:\n",
    "        return int(x)*int(y)\n",
    "    mid = len(x)//2\n",
    "    a, b = x[:mid], x[mid:]\n",
    "    c, d = y[:mid], y[mid:]\n",
    "    ac = mult_rec(a,c)\n",
    "    ad = mult_rec(a,d)\n",
    "    bc = mult_rec(b,c)\n",
    "    bd = mult_rec(b,d)\n",
    "    return 10**len(x) * ac + 10**(len(x)//2) * (ad+bc) + bd"
   ]
  },
  {
   "cell_type": "code",
   "execution_count": 76,
   "metadata": {
    "collapsed": true
   },
   "outputs": [],
   "source": [
    "import numpy as np"
   ]
  },
  {
   "cell_type": "code",
   "execution_count": 77,
   "metadata": {},
   "outputs": [
    {
     "name": "stdout",
     "output_type": "stream",
     "text": [
      "OK!\n"
     ]
    }
   ],
   "source": [
    "for i in range(1000):\n",
    "    x = np.random.randint(10,100)\n",
    "    y = np.random.randint(10,100)\n",
    "    if mult_rec(x,y) != x*y:\n",
    "        print(\"ERROR\")\n",
    "        break\n",
    "print(\"OK!\")"
   ]
  },
  {
   "cell_type": "code",
   "execution_count": 233,
   "metadata": {},
   "outputs": [],
   "source": [
    "def karatsuba_mult(x,y):\n",
    "    x, y = str(x), str(y)\n",
    "    if len(x) <= 1 or len(y) <= 1:\n",
    "        return int(x)*int(y)\n",
    "    mid = max(len(x),len(y))//2\n",
    "    a, b = x[:-mid], x[-mid:]\n",
    "    c, d = y[:-mid], y[-mid:]\n",
    "    p, q = int(a) + int(b), int(c) + int(d)\n",
    "    \n",
    "    ac = karatsuba_mult(a,c)\n",
    "    bd = karatsuba_mult(b,d)\n",
    "    \n",
    "    pq = karatsuba_mult(p,q)\n",
    "    \n",
    "    # print(\"a is {}, b is {}\".format(a,b))\n",
    "    # print(\"c is {}, d is {}\".format(c,d))\n",
    "    # print(\"p is {}, q is {}\".format(p,q))\n",
    "    # print(ac,pq,bd)\n",
    "    \n",
    "    adbc = pq - ac - bd \n",
    "    return 10**len(x) * ac + 10**(len(x)//2) * (adbc) + bd"
   ]
  },
  {
   "cell_type": "code",
   "execution_count": 234,
   "metadata": {},
   "outputs": [
    {
     "name": "stdout",
     "output_type": "stream",
     "text": [
      "OK!\n"
     ]
    }
   ],
   "source": [
    "for i in range(1000):\n",
    "    x = np.random.randint(10,100)\n",
    "    y = np.random.randint(10,100)\n",
    "    if karatsuba_mult(x,y) != x*y:\n",
    "        print(\"ERROR\")\n",
    "        break\n",
    "print(\"OK!\")"
   ]
  },
  {
   "cell_type": "code",
   "execution_count": null,
   "metadata": {
    "collapsed": true
   },
   "outputs": [],
   "source": []
  }
 ],
 "metadata": {
  "kernelspec": {
   "display_name": "Python 3",
   "language": "python",
   "name": "python3"
  },
  "language_info": {
   "codemirror_mode": {
    "name": "ipython",
    "version": 3
   },
   "file_extension": ".py",
   "mimetype": "text/x-python",
   "name": "python",
   "nbconvert_exporter": "python",
   "pygments_lexer": "ipython3",
   "version": "3.6.1"
  }
 },
 "nbformat": 4,
 "nbformat_minor": 2
}
